{
 "cells": [
  {
   "cell_type": "code",
   "execution_count": 2,
   "metadata": {},
   "outputs": [],
   "source": [
    "import json\n",
    "import os"
   ]
  },
  {
   "cell_type": "code",
   "execution_count": 27,
   "metadata": {},
   "outputs": [],
   "source": [
    "train_json = {'annotations': []}\n",
    "valid_json = {'annotations': []}\n",
    "\n",
    "# We have 14970 datas, so we will use 13000 as training datas.\n",
    "train_size = 13000\n",
    "\n",
    "output_txt_path = 'C://Users//Markos Peter//Python//Deep_Learning_nagyhazi//final_output.txt'\n",
    "# Reading the final_output.txt: Lines like: image_id, '\\t', text of the image\n",
    "with open(output_txt_path, 'r') as ot:\n",
    "    for index, line in enumerate(ot):\n",
    "        image_id, caption = line.strip().split('\\t')\n",
    "        sample = {'image_id': image_id, 'caption': caption}\n",
    "        if index > train_size:\n",
    "            valid_json['annotations'].append(sample)\n",
    "        else:\n",
    "            train_json['annotations'].append(sample)\n",
    "\n",
    "train_output_json_path = 'C://Users//Markos Peter//Python//Deep_Learning_nagyhazi//train.json'\n",
    "valid_output_json_path = 'C://Users//Markos Peter//Python//Deep_Learning_nagyhazi//valid.json'\n",
    "\n",
    "# Creating the json files\n",
    "json.dump(train_json, open(train_output_json_path, 'w'))\n",
    "json.dump(valid_json, open(valid_output_json_path, 'w'))"
   ]
  }
 ],
 "metadata": {
  "kernelspec": {
   "display_name": "Python 3",
   "language": "python",
   "name": "python3"
  },
  "language_info": {
   "codemirror_mode": {
    "name": "ipython",
    "version": 3
   },
   "file_extension": ".py",
   "mimetype": "text/x-python",
   "name": "python",
   "nbconvert_exporter": "python",
   "pygments_lexer": "ipython3",
   "version": "3.6.5"
  }
 },
 "nbformat": 4,
 "nbformat_minor": 2
}
