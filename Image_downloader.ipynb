{
 "cells": [
  {
   "cell_type": "code",
   "execution_count": 1,
   "metadata": {},
   "outputs": [],
   "source": [
    "import requests\n",
    "import os\n",
    "import shutil\n",
    "import matplotlib.pyplot as plt"
   ]
  },
  {
   "cell_type": "code",
   "execution_count": 2,
   "metadata": {},
   "outputs": [],
   "source": [
    "def create_data(image_dir):\n",
    "    with open('Train%2FGCC-training.tsv', 'r') as train, open('Validation%2FGCC-1.1.0-Validation.tsv', 'r') as valid, open('output.txt', 'w') as output:\n",
    "        idx = 0\n",
    "        for f in [train, valid]:\n",
    "            for line in f:\n",
    "                if idx == 100000:  # first 100 000 image\n",
    "                    return\n",
    "                try:\n",
    "                    text, url = line.split('\\t')                                       # In tsv files: text+tab+url of the image\n",
    "                    with open(os.path.join(image_dir, str(idx) + '.jpg'), \"wb\") as f:  # Name of the image: x.jpg, where x is index\n",
    "                        f.write(requests.get(url).content)                             # Getting the image data from the url.\n",
    "                    try:\n",
    "                        plt.imread(os.path.join(image_dir, str(idx) + '.jpg'))         # Reading the image\n",
    "                    except:\n",
    "                        shutil.remove(os.path.join(image_dir, str(idx) + '.jpg'))      # If there is problem with reading, delete the image\n",
    "                        continue\n",
    "                    output.write(str(idx) + '\\t' + text + '\\n')                        # Updating the txt with the datas of the new image\n",
    "                    idx += 1\n",
    "                except:\n",
    "                    pass"
   ]
  },
  {
   "cell_type": "code",
   "execution_count": null,
   "metadata": {},
   "outputs": [],
   "source": [
    "create_data('D:/Peti/BME/5. félév/Deep_learning/images')  # My personal folder for images"
   ]
  }
 ],
 "metadata": {
  "kernelspec": {
   "display_name": "Python 3",
   "language": "python",
   "name": "python3"
  },
  "language_info": {
   "codemirror_mode": {
    "name": "ipython",
    "version": 3
   },
   "file_extension": ".py",
   "mimetype": "text/x-python",
   "name": "python",
   "nbconvert_exporter": "python",
   "pygments_lexer": "ipython3",
   "version": "3.6.5"
  }
 },
 "nbformat": 4,
 "nbformat_minor": 2
}
